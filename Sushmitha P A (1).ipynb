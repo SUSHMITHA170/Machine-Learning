{
 "cells": [
  {
   "cell_type": "code",
   "execution_count": 1,
   "metadata": {},
   "outputs": [
    {
     "name": "stdout",
     "output_type": "stream",
     "text": [
      "hello\n"
     ]
    }
   ],
   "source": [
    "print(\"hello\")"
   ]
  },
  {
   "cell_type": "code",
   "execution_count": 2,
   "metadata": {},
   "outputs": [
    {
     "name": "stdout",
     "output_type": "stream",
     "text": [
      "20\n"
     ]
    }
   ],
   "source": [
    "#sum of two no's\n",
    "a=10\n",
    "b=10\n",
    "c=a+b\n",
    "print(c)"
   ]
  },
  {
   "cell_type": "code",
   "execution_count": 4,
   "metadata": {},
   "outputs": [
    {
     "name": "stdout",
     "output_type": "stream",
     "text": [
      "enter value for a10\n",
      "enter value for b10\n",
      "20\n"
     ]
    }
   ],
   "source": [
    "#sum of two no's\n",
    "a=input(\"enter value for a\")\n",
    "b=input(\"enter value for b\")\n",
    "c=int(a)+int(b)\n",
    "print(c)\n",
    "\n"
   ]
  },
  {
   "cell_type": "code",
   "execution_count": 8,
   "metadata": {},
   "outputs": [
    {
     "name": "stdout",
     "output_type": "stream",
     "text": [
      "value of a is 5\n",
      "value of b is 10\n"
     ]
    }
   ],
   "source": [
    "#swapping\n",
    "a=10\n",
    "b=5\n",
    "\n",
    "temp=a\n",
    "a=b\n",
    "b=temp\n",
    "print(\"value of a is\",a)\n",
    "print(\"value of b is\",b)"
   ]
  },
  {
   "cell_type": "code",
   "execution_count": 9,
   "metadata": {},
   "outputs": [
    {
     "name": "stdout",
     "output_type": "stream",
     "text": [
      "enter a2\n",
      "enter b4\n",
      "value of a before swap 2\n",
      "value of b before swap 4\n",
      "value of a after swap 4\n",
      "value of b after swap 2\n"
     ]
    }
   ],
   "source": [
    "#swapping\n",
    "a=input(\"enter a\")\n",
    "b=input(\"enter b\")\n",
    "print(\"value of a before swap\",a)\n",
    "print(\"value of b before swap\",b)\n",
    "temp=a\n",
    "a=b\n",
    "b=temp\n",
    "print(\"value of a after swap\",a)\n",
    "print(\"value of b after swap\",b)"
   ]
  },
  {
   "cell_type": "code",
   "execution_count": 29,
   "metadata": {},
   "outputs": [
    {
     "name": "stdout",
     "output_type": "stream",
     "text": [
      "element found at index 3\n"
     ]
    }
   ],
   "source": [
    "#linear search\n",
    "def ls(arr,n,x):\n",
    "    for i in range(0,n):\n",
    "        if (arr[i]==x):\n",
    "            return i\n",
    "    return -1\n",
    "           \n",
    "arr=[9,7,6,0,-1]\n",
    "x=0\n",
    "n=len(arr)\n",
    "r=ls(arr,n,x)\n",
    "if(r==-1):f = open(\"demofile3.txt\", \"r\")\n",
    "print(f.read())\n",
    "Run Example »\n",
    "\n",
    "    print(\"element not found\")\n",
    "else:\n",
    "    print(\"element found at index\",r)"
   ]
  },
  {
   "cell_type": "code",
   "execution_count": 50,
   "metadata": {},
   "outputs": [
    {
     "name": "stdout",
     "output_type": "stream",
     "text": [
      "Element is present at index  1\n"
     ]
    }
   ],
   "source": [
    "#binary search\n",
    "def binarySearch(array, x, low, high):\n",
    "    if high >= low:\n",
    "        mid = low + (high - low)//2\n",
    "        if array[mid] == x:\n",
    "            return mid\n",
    "        elif array[mid] > x:\n",
    "            return binarySearch(array, x, low, mid-1)\n",
    "        else:\n",
    "            return binarySearch(array, x, mid + 1, high)\n",
    "    else:\n",
    "        return -1\n",
    "\n",
    "array = [3, 4, 5, 6, 7, 8, 9]\n",
    "x = 4\n",
    "result = binarySearch(array, x, 0, len(array)-1)\n",
    "if result != -1:\n",
    "    print(\"Element is present at index \" ,result)\n",
    "else:\n",
    "    print(\"Not found\")\n",
    "\n"
   ]
  },
  {
   "cell_type": "code",
   "execution_count": 43,
   "metadata": {},
   "outputs": [
    {
     "name": "stdout",
     "output_type": "stream",
     "text": [
      "[0, 1, 3, 4, 9]\n"
     ]
    }
   ],
   "source": [
    "#selection sort\n",
    "def ss(arr,size):\n",
    "    for i in range(size):\n",
    "        minindex=i\n",
    "        for j in range(i+ 1, size):\n",
    "            if arr[j]<arr[minindex]:\n",
    "                minindex=j\n",
    "        (arr[minindex],arr[i])=(arr[i],arr[minindex])\n",
    "arr=[3,4,9,1,0]\n",
    "size=len(arr)\n",
    "ss(arr,size)\n",
    "print(arr)\n",
    "        "
   ]
  },
  {
   "cell_type": "code",
   "execution_count": 48,
   "metadata": {},
   "outputs": [],
   "source": [
    "#to open a file\n",
    "f=open(\"temp.txt\",\"w+\")\n",
    "#for i in range (10):\n",
    "f.write(\"heloo \")#\"%d \\n\" %(i+1))\n",
    "f.close()\n",
    "#f = open(\"sushmitha.txt\", \"r\")\n",
    "#print(f.read())\n"
   ]
  },
  {
   "cell_type": "code",
   "execution_count": 24,
   "metadata": {},
   "outputs": [
    {
     "name": "stdout",
     "output_type": "stream",
     "text": [
      "5.5\n"
     ]
    }
   ],
   "source": [
    "#mean\n",
    "num=[1,2,3,4,5,6,7,8,9,10]\n",
    "n=len(num)\n",
    "meanans=sum(num)/n\n",
    "print(meanans)"
   ]
  },
  {
   "cell_type": "code",
   "execution_count": 13,
   "metadata": {},
   "outputs": [
    {
     "name": "stdout",
     "output_type": "stream",
     "text": [
      "median is 12\n"
     ]
    }
   ],
   "source": [
    "#median\n",
    "data=[21, 13, 19, 3,11,5]\n",
    "data.sort()\n",
    "\n",
    "n=len(data)\n",
    "if n%2==0:\n",
    "    firstmed=data[n//2]\n",
    "    secmed=data[(n+1)//2-1]\n",
    "    median=(firstmed+secmed)//2\n",
    "else:\n",
    "    median=data[n//2]\n",
    "print(\"median is\",median)"
   ]
  },
  {
   "cell_type": "code",
   "execution_count": 20,
   "metadata": {},
   "outputs": [
    {
     "name": "stdout",
     "output_type": "stream",
     "text": [
      "{1: 2, 2: 2, 3: 4}\n",
      "4\n"
     ]
    }
   ],
   "source": [
    "#mode\n",
    "def modef(nums):\n",
    "    freq={}\n",
    "    for i in nums:\n",
    "        freq.setdefault(i,0)\n",
    "        freq[i]+=1\n",
    "    print(freq)\n",
    "    maxfreq=max(freq.values())\n",
    "    print(maxfreq)\n",
    "nums=[1,2,3,3,3,3,2,1]\n",
    "modef(nums)\n"
   ]
  },
  {
   "cell_type": "code",
   "execution_count": 3,
   "metadata": {},
   "outputs": [
    {
     "name": "stdout",
     "output_type": "stream",
     "text": [
      "2\n"
     ]
    }
   ],
   "source": [
    "#varience\n",
    "lis=[1,2,3,4,5]\n",
    "n=len(lis)\n",
    "mean=sum(lis)//n\n",
    "var=0\n",
    "for i in lis:\n",
    "    var=var+(i-mean)**2\n",
    "    varience=var//n\n",
    "print(varience)\n",
    "\n"
   ]
  },
  {
   "cell_type": "code",
   "execution_count": 4,
   "metadata": {},
   "outputs": [
    {
     "name": "stdout",
     "output_type": "stream",
     "text": [
      "1.4142135623730951\n"
     ]
    }
   ],
   "source": [
    "#standard deviation\n",
    "lis=[1,2,3,4,5]\n",
    "n=len(lis)\n",
    "mean=sum(lis)//n\n",
    "var=0\n",
    "for i in lis:\n",
    "    var=var+(i-mean)**2\n",
    "    Sd=(var//n)**0.5\n",
    "print(Sd)"
   ]
  },
  {
   "cell_type": "code",
   "execution_count": 23,
   "metadata": {},
   "outputs": [
    {
     "name": "stdout",
     "output_type": "stream",
     "text": [
      "mean 3\n",
      "standard deviation 1.4142135623730951\n",
      "-1.414213562373095\n",
      "-0.7071067811865475\n",
      "0.0\n",
      "0.7071067811865475\n",
      "1.414213562373095\n"
     ]
    }
   ],
   "source": [
    "#standardization\n",
    "lis=[1,2,3,4,5]\n",
    "mean1=sum(lis)//len(lis)\n",
    "print(\"mean\",mean1)\n",
    "var=0\n",
    "for i in lis:\n",
    "    var=var+(i-mean)**2\n",
    "    Sd=(var//n)**0.5\n",
    "print(\"standard deviation\",Sd)\n",
    "for j in lis:\n",
    "    standardization=(j-mean1)/Sd\n",
    "    print(standardization)"
   ]
  },
  {
   "cell_type": "code",
   "execution_count": 20,
   "metadata": {},
   "outputs": [
    {
     "name": "stdout",
     "output_type": "stream",
     "text": [
      "minimum element is 1\n",
      "maximum element is 5\n",
      "0.0\n",
      "0.25\n",
      "0.5\n",
      "0.75\n",
      "1.0\n"
     ]
    }
   ],
   "source": [
    "#normalization\n",
    "lis=[1,2,3,4,5]\n",
    "minimum=min(lis)\n",
    "print(\"minimum element is\",minimum)\n",
    "maximum=max(lis)\n",
    "print(\"maximum element is\",maximum)\n",
    "for i in lis:\n",
    "    norm=(i-minimum)/(maximum-minimum)\n",
    "    print(norm)\n",
    "    type(file)"
   ]
  },
  {
   "cell_type": "code",
   "execution_count": 37,
   "metadata": {},
   "outputs": [
    {
     "data": {
      "text/plain": [
       "[['SL NO', 'NAME', 'USN', 'SEMESTER', 'CGPA'],\n",
       " ['1', 'Sushmitha', '1NT19IS170', '6th', '7.9'],\n",
       " ['2', 'Varsha', '1NT19IS182', '7th', '8.8'],\n",
       " ['3', 'Suchitra', '1NT19IS162', '6th', '9'],\n",
       " ['4', 'Sanju', '1NT19IS157', '4th', '8.3'],\n",
       " ['5', 'Puni', '1NTI9IS156', '5th', '5.5']]"
      ]
     },
     "execution_count": 37,
     "metadata": {},
     "output_type": "execute_result"
    }
   ],
   "source": [
    "#extracting features from csv file\n",
    "import csv\n",
    "file=open('/home/ignis/Documents/sush.csv')\n",
    "csvreader = csv.reader(file)\n",
    "row=[]\n",
    "for i in csvreader:\n",
    "    row.append(i)\n",
    "row\n",
    "\n"
   ]
  }
 ],
 "metadata": {
  "kernelspec": {
   "display_name": "Python 3",
   "language": "python",
   "name": "python3"
  },
  "language_info": {
   "codemirror_mode": {
    "name": "ipython",
    "version": 3
   },
   "file_extension": ".py",
   "mimetype": "text/x-python",
   "name": "python",
   "nbconvert_exporter": "python",
   "pygments_lexer": "ipython3",
   "version": "3.8.10"
  }
 },
 "nbformat": 4,
 "nbformat_minor": 4
}
