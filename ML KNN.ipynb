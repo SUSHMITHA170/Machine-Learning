{
 "cells": [
  {
   "cell_type": "code",
   "execution_count": 94,
   "id": "8f93fc58",
   "metadata": {},
   "outputs": [],
   "source": [
    "import pandas as pd\n",
    "import numpy as np\n",
    "from copy import deepcopy"
   ]
  },
  {
   "cell_type": "code",
   "execution_count": 95,
   "id": "500b0968",
   "metadata": {},
   "outputs": [
    {
     "data": {
      "text/html": [
       "<div>\n",
       "<style scoped>\n",
       "    .dataframe tbody tr th:only-of-type {\n",
       "        vertical-align: middle;\n",
       "    }\n",
       "\n",
       "    .dataframe tbody tr th {\n",
       "        vertical-align: top;\n",
       "    }\n",
       "\n",
       "    .dataframe thead th {\n",
       "        text-align: right;\n",
       "    }\n",
       "</style>\n",
       "<table border=\"1\" class=\"dataframe\">\n",
       "  <thead>\n",
       "    <tr style=\"text-align: right;\">\n",
       "      <th></th>\n",
       "      <th>x1</th>\n",
       "      <th>x2</th>\n",
       "    </tr>\n",
       "  </thead>\n",
       "  <tbody>\n",
       "    <tr>\n",
       "      <th>0</th>\n",
       "      <td>3.2</td>\n",
       "      <td>5.9</td>\n",
       "    </tr>\n",
       "    <tr>\n",
       "      <th>1</th>\n",
       "      <td>2.9</td>\n",
       "      <td>4.6</td>\n",
       "    </tr>\n",
       "    <tr>\n",
       "      <th>2</th>\n",
       "      <td>2.8</td>\n",
       "      <td>6.2</td>\n",
       "    </tr>\n",
       "    <tr>\n",
       "      <th>3</th>\n",
       "      <td>3.2</td>\n",
       "      <td>4.7</td>\n",
       "    </tr>\n",
       "    <tr>\n",
       "      <th>4</th>\n",
       "      <td>4.2</td>\n",
       "      <td>5.5</td>\n",
       "    </tr>\n",
       "    <tr>\n",
       "      <th>5</th>\n",
       "      <td>3.0</td>\n",
       "      <td>5.0</td>\n",
       "    </tr>\n",
       "    <tr>\n",
       "      <th>6</th>\n",
       "      <td>3.1</td>\n",
       "      <td>4.9</td>\n",
       "    </tr>\n",
       "    <tr>\n",
       "      <th>7</th>\n",
       "      <td>3.1</td>\n",
       "      <td>6.7</td>\n",
       "    </tr>\n",
       "    <tr>\n",
       "      <th>8</th>\n",
       "      <td>3.8</td>\n",
       "      <td>5.1</td>\n",
       "    </tr>\n",
       "    <tr>\n",
       "      <th>9</th>\n",
       "      <td>3.0</td>\n",
       "      <td>6.0</td>\n",
       "    </tr>\n",
       "  </tbody>\n",
       "</table>\n",
       "</div>"
      ],
      "text/plain": [
       "    x1   x2\n",
       "0  3.2  5.9\n",
       "1  2.9  4.6\n",
       "2  2.8  6.2\n",
       "3  3.2  4.7\n",
       "4  4.2  5.5\n",
       "5  3.0  5.0\n",
       "6  3.1  4.9\n",
       "7  3.1  6.7\n",
       "8  3.8  5.1\n",
       "9  3.0  6.0"
      ]
     },
     "execution_count": 95,
     "metadata": {},
     "output_type": "execute_result"
    }
   ],
   "source": [
    "df=pd.read_csv(\"kknnn.csv\")\n",
    "df"
   ]
  },
  {
   "cell_type": "code",
   "execution_count": 96,
   "id": "21ba21ff",
   "metadata": {},
   "outputs": [
    {
     "data": {
      "text/plain": [
       "array([[3.2, 5.9],\n",
       "       [2.9, 4.6],\n",
       "       [2.8, 6.2],\n",
       "       [3.2, 4.7],\n",
       "       [4.2, 5.5],\n",
       "       [3. , 5. ],\n",
       "       [3.1, 4.9],\n",
       "       [3.1, 6.7],\n",
       "       [3.8, 5.1],\n",
       "       [3. , 6. ]])"
      ]
     },
     "execution_count": 96,
     "metadata": {},
     "output_type": "execute_result"
    }
   ],
   "source": [
    "x1=df[\"x1\"].values\n",
    "x2=df[\"x2\"].values\n",
    "x=np.array(list(zip(x1,x2)))\n",
    "x"
   ]
  },
  {
   "cell_type": "code",
   "execution_count": 97,
   "id": "8482162a",
   "metadata": {},
   "outputs": [
    {
     "data": {
      "text/plain": [
       "array([[3.2, 6.2],\n",
       "       [3.7, 6.6],\n",
       "       [3. , 6.5]])"
      ]
     },
     "execution_count": 97,
     "metadata": {},
     "output_type": "execute_result"
    }
   ],
   "source": [
    "cy=[6.2,6.6,6.5]\n",
    "cx=[3.2,3.7,3]\n",
    "centroid=np.array(list(zip(cx,cy)))\n",
    "centroid"
   ]
  },
  {
   "cell_type": "code",
   "execution_count": 98,
   "id": "09864380",
   "metadata": {},
   "outputs": [
    {
     "data": {
      "text/plain": [
       "array([[0., 0.],\n",
       "       [0., 0.],\n",
       "       [0., 0.]])"
      ]
     },
     "execution_count": 98,
     "metadata": {},
     "output_type": "execute_result"
    }
   ],
   "source": [
    "oldcentroid=np.zeros(centroid.shape)\n",
    "\n",
    "oldcentroid"
   ]
  },
  {
   "cell_type": "code",
   "execution_count": 99,
   "id": "59f5ec36",
   "metadata": {},
   "outputs": [
    {
     "data": {
      "text/plain": [
       "array([0., 0., 0., 0., 0., 0., 0., 0., 0., 0.])"
      ]
     },
     "execution_count": 99,
     "metadata": {},
     "output_type": "execute_result"
    }
   ],
   "source": [
    "scluster=np.zeros(len(x))\n",
    "scluster"
   ]
  },
  {
   "cell_type": "code",
   "execution_count": 100,
   "id": "0880056d",
   "metadata": {},
   "outputs": [],
   "source": [
    "def euclidean(a,b,ax=1):\n",
    "    return np.linalg.norm(a-b,axis=ax)\n"
   ]
  },
  {
   "cell_type": "code",
   "execution_count": 101,
   "id": "c15eee01",
   "metadata": {},
   "outputs": [
    {
     "data": {
      "text/plain": [
       "12.53714481052205"
      ]
     },
     "execution_count": 101,
     "metadata": {},
     "output_type": "execute_result"
    }
   ],
   "source": [
    "error=euclidean(centroid,oldcentroid,None)\n",
    "error"
   ]
  },
  {
   "cell_type": "code",
   "execution_count": 102,
   "id": "d10f37ff",
   "metadata": {},
   "outputs": [
    {
     "name": "stdout",
     "output_type": "stream",
     "text": [
      "old centroid [[3.2 6.2]\n",
      " [3.7 6.6]\n",
      " [3.  6.5]]\n",
      "centroid after  1 is [[3.17142857 5.17142857]\n",
      " [4.2        5.5       ]\n",
      " [2.95       6.45      ]]\n",
      "1.588639515498743\n",
      "datapoints belong to cluster [0. 0. 2. 0. 1. 0. 0. 2. 0. 0.]\n",
      "old centroid [[3.17142857 5.17142857]\n",
      " [4.2        5.5       ]\n",
      " [2.95       6.45      ]]\n",
      "centroid after  2 is [[3.05  4.8  ]\n",
      " [4.    5.3  ]\n",
      " [3.025 6.2  ]]\n",
      "0.5484788798419251\n",
      "datapoints belong to cluster [2. 0. 2. 0. 1. 0. 0. 2. 1. 2.]\n",
      "old centroid [[3.05  4.8  ]\n",
      " [4.    5.3  ]\n",
      " [3.025 6.2  ]]\n",
      "centroid after  3 is [[3.05  4.8  ]\n",
      " [4.    5.3  ]\n",
      " [3.025 6.2  ]]\n",
      "0.0\n",
      "datapoints belong to cluster [2. 0. 2. 0. 1. 0. 0. 2. 1. 2.]\n"
     ]
    }
   ],
   "source": [
    "k=3\n",
    "itter=0\n",
    "while error!=0:\n",
    "    itter=itter+1\n",
    "    for i in range (len(x)):\n",
    "        distance=euclidean(x[i],centroid)\n",
    "        cluster=np.argmin(distance)\n",
    "        scluster[i]=cluster\n",
    "    oldcentroid=deepcopy(centroid)\n",
    "    print(\"old centroid\",oldcentroid)\n",
    "        \n",
    "    for p in range (k):\n",
    "        points=[x[j] for j in range (len(x)) if scluster[j]==p]\n",
    "        centroid[p]=np.mean(points,axis=0)\n",
    "    print(\"centroid after \",itter, \"is\",centroid)\n",
    "    error=euclidean(centroid,oldcentroid,None)\n",
    "    print(error)\n",
    "    print(\"datapoints belong to cluster\",scluster)\n",
    "    \n"
   ]
  },
  {
   "cell_type": "code",
   "execution_count": null,
   "id": "55db398f",
   "metadata": {},
   "outputs": [],
   "source": []
  },
  {
   "cell_type": "code",
   "execution_count": null,
   "id": "1b412c4f",
   "metadata": {},
   "outputs": [],
   "source": []
  }
 ],
 "metadata": {
  "kernelspec": {
   "display_name": "Python 3 (ipykernel)",
   "language": "python",
   "name": "python3"
  },
  "language_info": {
   "codemirror_mode": {
    "name": "ipython",
    "version": 3
   },
   "file_extension": ".py",
   "mimetype": "text/x-python",
   "name": "python",
   "nbconvert_exporter": "python",
   "pygments_lexer": "ipython3",
   "version": "3.9.12"
  }
 },
 "nbformat": 4,
 "nbformat_minor": 5
}
